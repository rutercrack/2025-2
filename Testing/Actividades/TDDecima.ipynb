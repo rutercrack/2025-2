{
  "cells": [
    {
      "cell_type": "code",
      "source": [
        "import unittest\n",
        "def runTests(testClass):\n",
        "  suite = unittest.TestSuite()\n",
        "  suite.addTest(unittest.makeSuite(testClass))\n",
        "  runner = unittest.TextTestRunner()\n",
        "  runner.run(suite)"
      ],
      "metadata": {
        "id": "M2OEg2HkDrdU"
      },
      "execution_count": null,
      "outputs": []
    },
    {
      "cell_type": "markdown",
      "source": [
        "\n",
        "# Escriba la función is_valid_password para que pasen los tests.\n",
        "A esta practica se le conoce como Test Driven Development\n"
      ],
      "metadata": {
        "id": "3dYw1YO6DtqY"
      }
    },
    {
      "cell_type": "code",
      "execution_count": null,
      "metadata": {
        "id": "zpMFKxMT9Rc5"
      },
      "outputs": [],
      "source": [
        "def is_valid_password(password: str) -> bool:\n",
        "    return False"
      ]
    },
    {
      "cell_type": "markdown",
      "source": [
        "El código fuente de la función anterior tiene que ser guiado para que pasen los siguientes test:"
      ],
      "metadata": {
        "id": "TYpBJXQCZNh0"
      }
    },
    {
      "cell_type": "code",
      "source": [
        "import unittest\n",
        "\n",
        "class TestPasswordValidator(unittest.TestCase):\n",
        "\n",
        "    def test_empty_password_is_invalid(self):\n",
        "        self.assertFalse(is_valid_password(\"\"))\n",
        "\n",
        "    def test_password_too_short_is_invalid(self):\n",
        "        self.assertFalse(is_valid_password(\"Ab1\"))\n",
        "\n",
        "    def test_password_without_uppercase_is_invalid(self):\n",
        "        self.assertFalse(is_valid_password(\"password1\"))\n",
        "\n",
        "    def test_password_without_lowercase_is_invalid(self):\n",
        "        self.assertFalse(is_valid_password(\"PASSWORD1\"))\n",
        "\n",
        "    def test_password_without_digits_is_invalid(self):\n",
        "        self.assertFalse(is_valid_password(\"Password\"))\n",
        "\n",
        "    def test_password_with_all_requirements_is_valid(self):\n",
        "        self.assertTrue(is_valid_password(\"Pass1234\"))\n",
        "\n",
        "    def test_password_with_exactly_8_chars_is_valid(self):\n",
        "        self.assertTrue(is_valid_password(\"Aa1aaaaa\"))"
      ],
      "metadata": {
        "id": "zmo6p56j0MRF"
      },
      "execution_count": null,
      "outputs": []
    },
    {
      "cell_type": "code",
      "source": [
        "runTests(TestPasswordValidator)"
      ],
      "metadata": {
        "id": "DMPbyyFKrEjf"
      },
      "execution_count": null,
      "outputs": []
    }
  ],
  "metadata": {
    "kernelspec": {
      "display_name": "Python 3",
      "language": "python",
      "name": "python3"
    },
    "language_info": {
      "codemirror_mode": {
        "name": "ipython",
        "version": 3
      },
      "file_extension": ".py",
      "mimetype": "text/x-python",
      "name": "python",
      "nbconvert_exporter": "python",
      "pygments_lexer": "ipython3",
      "version": "3.8.18"
    },
    "colab": {
      "provenance": []
    }
  },
  "nbformat": 4,
  "nbformat_minor": 0
}